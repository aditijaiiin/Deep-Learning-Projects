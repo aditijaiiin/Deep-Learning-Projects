{
 "cells": [
  {
   "cell_type": "code",
   "execution_count": 1,
   "id": "e1523014",
   "metadata": {},
   "outputs": [],
   "source": [
    "import numpy as np"
   ]
  },
  {
   "cell_type": "markdown",
   "id": "38940c50",
   "metadata": {},
   "source": [
    "Sigmoid Perceptron Class"
   ]
  },
  {
   "cell_type": "code",
   "execution_count": null,
   "id": "f559366e",
   "metadata": {},
   "outputs": [],
   "source": [
    "class SigmoidPerceptron():\n",
    "    def __init__(self, input_size):\n",
    "        self.weights = np.random.randn(input_size)\n",
    "        self.bias = np.random.randn(1)\n",
    "    \n",
    "    def sigmoid(self, z):\n",
    "        return 1/(1+np.exp(-z))\n",
    "    \n",
    "    def predict(self, inputs):\n",
    "        weighted_sum = np.dot(inputs, self.weights) + self.bias\n",
    "        return self.sigmoid(weighted_sum)\n",
    "    \n",
    "    def fit(self, inputs, targets, learning_rate, num_epochs):    # num_epochs = number of iterations\n",
    "        num_examples = inputs.shape[0]\n",
    "        for epoch in range(num_epochs):\n",
    "            for i in range(num_examples):\n",
    "                input_vector = inputs[i]\n",
    "                target = targets[i]\n",
    "                prediction = self.predict(input_vector)\n",
    "                error = target - prediction\n",
    "                # Update weights\n",
    "                gradient_weights = error*prediction*(1-prediction)*input_vector\n",
    "                self.weights += learning_rate*gradient_weights\n",
    "                # Update bias\n",
    "                gradient_bias = error*prediction*(1-prediction)\n",
    "                self.bias += learning_rate*gradient_bias\n",
    "         \n",
    "    def evaluate(self):\n",
    "        correct = 0\n",
    "        for input_vector, target in zip(inputs, targets):\n",
    "            prediction = self.predict(input_vector)\n",
    "            if prediction >= 0.5:\n",
    "                predicted_class = 1\n",
    "            else:\n",
    "                predicted_class = 0\n",
    "            if predicted_class == target:\n",
    "                correct += 1\n",
    "            accuracy = correct/len(inputs)\n",
    "            return accuracy\n",
    "    "
   ]
  }
 ],
 "metadata": {
  "kernelspec": {
   "display_name": "Python 3 (ipykernel)",
   "language": "python",
   "name": "python3"
  },
  "language_info": {
   "codemirror_mode": {
    "name": "ipython",
    "version": 3
   },
   "file_extension": ".py",
   "mimetype": "text/x-python",
   "name": "python",
   "nbconvert_exporter": "python",
   "pygments_lexer": "ipython3",
   "version": "3.10.4"
  }
 },
 "nbformat": 4,
 "nbformat_minor": 5
}
